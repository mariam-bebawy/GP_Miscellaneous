{
 "cells": [
  {
   "cell_type": "code",
   "execution_count": 1,
   "id": "a5a9f387",
   "metadata": {},
   "outputs": [],
   "source": [
    "import numpy as np\n",
    "from math import ceil,floor"
   ]
  },
  {
   "cell_type": "code",
   "execution_count": 2,
   "id": "0980334c",
   "metadata": {},
   "outputs": [],
   "source": [
    "vol = np.random.rand(60, 60, 60)"
   ]
  },
  {
   "cell_type": "code",
   "execution_count": 3,
   "id": "78fe6052",
   "metadata": {},
   "outputs": [],
   "source": [
    "# need to handle integers values\n",
    "\n",
    "def trilinear_interpolation(x,y,z,vol):\n",
    "    \n",
    "    x1,x0=ceil(x),floor(x)\n",
    "    y1,y0=ceil(y),floor(y)\n",
    "    z1,z0=ceil(z),floor(z)\n",
    "    \n",
    "    if(x0!=x1):\n",
    "        xd=(x-x0)/(x1-x)\n",
    "    else:\n",
    "        xd=0\n",
    "    if(y0!=y1):\n",
    "        yd=(y-y0)/(y1-y)\n",
    "    else:\n",
    "        yd=0\n",
    "    if(z0!=z1):\n",
    "        zd=(z-z0)/(z1-z)\n",
    "    else:\n",
    "        zd=0\n",
    "        \n",
    "\n",
    "    \n",
    "    \n",
    "    c00=vol[x0,y0,z0]*(1-xd)+vol[x1,y0,z0]*xd\n",
    "    c01=vol[x0,y0,z1]*(1-xd)+vol[x1,y0,z1]*xd\n",
    "    c10=vol[x0,y1,z0]*(1-xd)+vol[x1,y1,z0]*xd\n",
    "    c11=vol[x0,y1,z1]*(1-xd)+vol[x1,y1,z1]*xd\n",
    "    \n",
    "    c0=c00*(1-yd)+c10*yd\n",
    "    c1=c01*(1-yd)+c11*yd\n",
    "    \n",
    "    c=c0*(1-zd)+c1*zd\n",
    "\n",
    "    return c    "
   ]
  },
  {
   "cell_type": "code",
   "execution_count": 4,
   "id": "d4e71f50",
   "metadata": {},
   "outputs": [
    {
     "name": "stdout",
     "output_type": "stream",
     "text": [
      "0.7829277608900423\n"
     ]
    }
   ],
   "source": [
    "print(trilinear_interpolation(1,1,1,vol))\n"
   ]
  },
  {
   "cell_type": "code",
   "execution_count": 6,
   "id": "f97f4e9b",
   "metadata": {},
   "outputs": [
    {
     "data": {
      "text/plain": [
       "0.7829277608900423"
      ]
     },
     "execution_count": 6,
     "metadata": {},
     "output_type": "execute_result"
    }
   ],
   "source": [
    "vol[1,1,1]"
   ]
  },
  {
   "cell_type": "code",
   "execution_count": null,
   "id": "8a26d256",
   "metadata": {},
   "outputs": [],
   "source": []
  }
 ],
 "metadata": {
  "kernelspec": {
   "display_name": "Python 3 (ipykernel)",
   "language": "python",
   "name": "python3"
  },
  "language_info": {
   "codemirror_mode": {
    "name": "ipython",
    "version": 3
   },
   "file_extension": ".py",
   "mimetype": "text/x-python",
   "name": "python",
   "nbconvert_exporter": "python",
   "pygments_lexer": "ipython3",
   "version": "3.10.7"
  }
 },
 "nbformat": 4,
 "nbformat_minor": 5
}
